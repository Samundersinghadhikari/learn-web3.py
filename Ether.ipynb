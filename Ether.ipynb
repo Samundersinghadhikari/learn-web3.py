{
  "nbformat": 4,
  "nbformat_minor": 0,
  "metadata": {
    "colab": {
      "provenance": [],
      "authorship_tag": "ABX9TyNAAx8iLeixrFDO+KOTznk2",
      "include_colab_link": true
    },
    "kernelspec": {
      "name": "python3",
      "display_name": "Python 3"
    },
    "language_info": {
      "name": "python"
    }
  },
  "cells": [
    {
      "cell_type": "markdown",
      "metadata": {
        "id": "view-in-github",
        "colab_type": "text"
      },
      "source": [
        "<a href=\"https://colab.research.google.com/github/Samundersinghadhikari/bitsnake/blob/part1/Ether.ipynb\" target=\"_parent\"><img src=\"https://colab.research.google.com/assets/colab-badge.svg\" alt=\"Open In Colab\"/></a>"
      ]
    },
    {
      "cell_type": "markdown",
      "source": [
        "Blockchain"
      ],
      "metadata": {
        "id": "BzpK_aDyeeCn"
      }
    },
    {
      "cell_type": "code",
      "source": [
        "!pip install web3"
      ],
      "metadata": {
        "id": "qEVjy3D9ZUnw"
      },
      "execution_count": null,
      "outputs": []
    },
    {
      "cell_type": "code",
      "source": [
        "!pip install solc"
      ],
      "metadata": {
        "id": "dreJdwd5ZY2a"
      },
      "execution_count": null,
      "outputs": []
    },
    {
      "cell_type": "code",
      "source": [
        "!pip install eth_tester"
      ],
      "metadata": {
        "id": "szICGcLF8oMX"
      },
      "execution_count": null,
      "outputs": []
    },
    {
      "cell_type": "code",
      "source": [
        "# @title Genesis\n",
        "# @markdown\n",
        "from web3 import Web3\n",
        "w3 = Web3()\n",
        "pro = 'https://sepolia.infura.io/v3/yourid'\n",
        "w3 = Web3(Web3.HTTPProvider(pro))\n",
        "def blockno():\n",
        "    print(\"blockno:\",w3.eth.block_number)\n",
        "\n",
        "def balaceho():\n",
        "    game = w3.eth.get_balance('0x28f14337e0370fE1a296D69A4823190528f3269c')\n",
        "    print(\"balance:\",game)\n",
        "def transformwei():\n",
        "    game2 = w3.from_wei(3000000000000000000,'ether')\n",
        "    print('ether:',game2)\n",
        "    game3 = w3.to_wei(3,'ether')\n",
        "    print('wei:',game3)\n",
        "blockno()\n",
        "balaceho()\n",
        "transformwei()"
      ],
      "metadata": {
        "cellView": "form",
        "id": "jnBuiqmVl1zZ"
      },
      "execution_count": null,
      "outputs": []
    },
    {
      "cell_type": "code",
      "source": [
        "\n",
        "# @title create solidity contact\n",
        "# @markdown\n",
        "\n",
        "import solcx\n",
        "from solcx import compile_source\n",
        "\n",
        "compiled_solidity = compile_source(\n",
        "'''\n",
        "// SPDX-License-Identifier: MIT\n",
        "pragma solidity ^0.8.0;\n",
        "\n",
        "contract MyContract {\n",
        "    uint public myValue=6;\n",
        "\n",
        "    function setValue(uint newValue) public {\n",
        "        myValue = newValue;\n",
        "    }\n",
        "\n",
        "    function getValue() public view returns (uint) {\n",
        "        return myValue;\n",
        "    }\n",
        "}\n",
        "\n",
        "''',output_values = ['abi','bin'])"
      ],
      "metadata": {
        "id": "sPLTsowqv8rL",
        "cellView": "form"
      },
      "execution_count": 28,
      "outputs": []
    },
    {
      "cell_type": "code",
      "source": [
        "# @title deploy\n",
        "# @markdown\n",
        "from web3 import Web3\n",
        "from eth_tester import EthereumTester, PyEVMBackend\n",
        "\n",
        "# Create an instance of the EthereumTester with a PyEVMBackend\n",
        "backend = PyEVMBackend()\n",
        "tester = EthereumTester(backend=backend)\n",
        "\n",
        "contract_id, contract_interface = compiled_solidity.popitem()\n",
        "# Create an instance of the Web3 object using the tester provider\n",
        "w3 = Web3(Web3.EthereumTesterProvider(tester))\n",
        "\n",
        "# Set the default account to use for deploying the contract\n",
        "w3.eth.default_account = w3.eth.accounts[0]\n",
        "\n",
        "# Get the ABI and bytecode for the contract\n",
        "abi = contract_interface['abi']\n",
        "bytecode = contract_interface['bin']\n",
        "\n",
        "# Create a contract instance\n",
        "Hello = w3.eth.contract(abi=abi, bytecode=bytecode)\n",
        "\n",
        "# Estimate the gas required for deploying the contract\n",
        "#gas_estimate = Hello.constructor().estimateGas()\n",
        "\n",
        "# Deploy the contract\n",
        "tx_hash = Hello.constructor().transact()\n",
        "\n",
        "# Print the transaction hash\n",
        "print(tx_hash)"
      ],
      "metadata": {
        "cellView": "form",
        "id": "A36zWNg6Ar3G"
      },
      "execution_count": null,
      "outputs": []
    },
    {
      "cell_type": "code",
      "source": [
        "# @title transaction_receipt and calling func\n",
        "# @markdown\n",
        "\n",
        "transaction_receipt = w3.eth.wait_for_transaction_receipt(tx_hash)\n",
        "#transaction_receipt\n",
        "Mycontact = w3.eth.contract(address= transaction_receipt.contractAddress,abi = abi)\n",
        "Mycontact #calling contract\n",
        "#let use function of your or my contact\n",
        "Function_getvalue = Mycontact.functions.getValue().call() # create instance of my function\n",
        "#print(Function_getvalue)\n",
        "#to change or access new value value we need to transact again\n",
        "Valuechange_hash = Mycontact.functions.setValue(8).transact()"
      ],
      "metadata": {
        "colab": {
          "base_uri": "https://localhost:8080/"
        },
        "cellView": "form",
        "id": "B_qcHqbsBcVT",
        "outputId": "891824b1-0357-43d2-b794-3f9f16b49810"
      },
      "execution_count": 42,
      "outputs": [
        {
          "output_type": "stream",
          "name": "stdout",
          "text": [
            "8\n"
          ]
        }
      ]
    }
  ]
}