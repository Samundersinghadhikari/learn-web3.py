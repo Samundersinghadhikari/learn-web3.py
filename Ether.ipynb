{
  "nbformat": 4,
  "nbformat_minor": 0,
  "metadata": {
    "colab": {
      "provenance": [],
      "authorship_tag": "ABX9TyNNJV8sV96uQoScwFzejiDs",
      "include_colab_link": true
    },
    "kernelspec": {
      "name": "python3",
      "display_name": "Python 3"
    },
    "language_info": {
      "name": "python"
    }
  },
  "cells": [
    {
      "cell_type": "markdown",
      "metadata": {
        "id": "view-in-github",
        "colab_type": "text"
      },
      "source": [
        "<a href=\"https://colab.research.google.com/github/Samundersinghadhikari/bitsnake/blob/part1/Ether.ipynb\" target=\"_parent\"><img src=\"https://colab.research.google.com/assets/colab-badge.svg\" alt=\"Open In Colab\"/></a>"
      ]
    },
    {
      "cell_type": "markdown",
      "source": [
        "Blockchain"
      ],
      "metadata": {
        "id": "BzpK_aDyeeCn"
      }
    },
    {
      "cell_type": "code",
      "source": [
        "!pip install web3"
      ],
      "metadata": {
        "id": "qEVjy3D9ZUnw"
      },
      "execution_count": null,
      "outputs": []
    },
    {
      "cell_type": "code",
      "source": [
        "!pip install solc"
      ],
      "metadata": {
        "id": "dreJdwd5ZY2a"
      },
      "execution_count": null,
      "outputs": []
    },
    {
      "cell_type": "code",
      "source": [
        "# @title Genesis\n",
        "# @markdown\n",
        "from web3 import Web3\n",
        "w3 = Web3()\n",
        "pro = 'https://sepolia.infura.io/v3/yourid'\n",
        "w3 = Web3(Web3.HTTPProvider(pro))\n",
        "def blockno():\n",
        "    print(\"blockno:\",w3.eth.block_number)\n",
        "\n",
        "def balaceho():\n",
        "    game = w3.eth.get_balance('0x28f14337e0370fE1a296D69A4823190528f3269c')\n",
        "    print(\"balance:\",game)\n",
        "def transformwei():\n",
        "    game2 = w3.from_wei(3000000000000000000,'ether')\n",
        "    print('ether:',game2)\n",
        "    game3 = w3.to_wei(3,'ether')\n",
        "    print('wei:',game3)\n",
        "blockno()\n",
        "balaceho()\n",
        "transformwei()"
      ],
      "metadata": {
        "cellView": "form",
        "id": "jnBuiqmVl1zZ"
      },
      "execution_count": null,
      "outputs": []
    },
    {
      "cell_type": "code",
      "source": [
        "\n",
        "# @title 0.1\n",
        "# @markdown\n",
        "\n",
        "import solcx\n",
        "from solcx import compile_source\n",
        "\n",
        "compiled_solidity = compile_source(\n",
        "'''\n",
        "// SPDX-License-Identifier: MIT\n",
        "pragma solidity ^0.8.0;\n",
        "\n",
        "contract MyContract {\n",
        "    uint public myValue;\n",
        "\n",
        "    function setValue(uint newValue) public {\n",
        "        myValue = newValue;\n",
        "    }\n",
        "\n",
        "    function getValue() public view returns (uint) {\n",
        "        return myValue;\n",
        "    }\n",
        "}\n",
        "\n",
        "''',output_values = ['abi','bin'])"
      ],
      "metadata": {
        "id": "sPLTsowqv8rL",
        "cellView": "form"
      },
      "execution_count": 16,
      "outputs": []
    },
    {
      "cell_type": "code",
      "source": [
        "compiled_solidity"
      ],
      "metadata": {
        "colab": {
          "base_uri": "https://localhost:8080/"
        },
        "id": "J5tgB6QK5jL7",
        "outputId": "c83044be-fbca-46b3-a24d-772e0228cd6f"
      },
      "execution_count": 17,
      "outputs": [
        {
          "output_type": "execute_result",
          "data": {
            "text/plain": [
              "{'<stdin>:MyContract': {'abi': [{'inputs': [],\n",
              "    'name': 'getValue',\n",
              "    'outputs': [{'internalType': 'uint256', 'name': '', 'type': 'uint256'}],\n",
              "    'stateMutability': 'view',\n",
              "    'type': 'function'},\n",
              "   {'inputs': [],\n",
              "    'name': 'myValue',\n",
              "    'outputs': [{'internalType': 'uint256', 'name': '', 'type': 'uint256'}],\n",
              "    'stateMutability': 'view',\n",
              "    'type': 'function'},\n",
              "   {'inputs': [{'internalType': 'uint256',\n",
              "      'name': 'newValue',\n",
              "      'type': 'uint256'}],\n",
              "    'name': 'setValue',\n",
              "    'outputs': [],\n",
              "    'stateMutability': 'nonpayable',\n",
              "    'type': 'function'}],\n",
              "  'bin': '608060405234801561001057600080fd5b5061017f806100206000396000f3fe608060405234801561001057600080fd5b50600436106100415760003560e01c8063209652551461004657806347f1aae7146100645780635524107714610082575b600080fd5b61004e61009e565b60405161005b91906100d0565b60405180910390f35b61006c6100a7565b60405161007991906100d0565b60405180910390f35b61009c6004803603810190610097919061011c565b6100ad565b005b60008054905090565b60005481565b8060008190555050565b6000819050919050565b6100ca816100b7565b82525050565b60006020820190506100e560008301846100c1565b92915050565b600080fd5b6100f9816100b7565b811461010457600080fd5b50565b600081359050610116816100f0565b92915050565b600060208284031215610132576101316100eb565b5b600061014084828501610107565b9150509291505056fea26469706673582212206a7c377c6ae3ded6a92f9b20d265462b3d5d686b8311122d4ee3db312fd0ff1064736f6c63430008130033'}}"
            ]
          },
          "metadata": {},
          "execution_count": 17
        }
      ]
    }
  ]
}