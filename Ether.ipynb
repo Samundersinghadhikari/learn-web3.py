{
  "nbformat": 4,
  "nbformat_minor": 0,
  "metadata": {
    "colab": {
      "provenance": [],
      "authorship_tag": "ABX9TyOXSHyu2BOYgY96mSekWIyU",
      "include_colab_link": true
    },
    "kernelspec": {
      "name": "python3",
      "display_name": "Python 3"
    },
    "language_info": {
      "name": "python"
    }
  },
  "cells": [
    {
      "cell_type": "markdown",
      "metadata": {
        "id": "view-in-github",
        "colab_type": "text"
      },
      "source": [
        "<a href=\"https://colab.research.google.com/github/Samundersinghadhikari/bitsnake/blob/part1/Ether.ipynb\" target=\"_parent\"><img src=\"https://colab.research.google.com/assets/colab-badge.svg\" alt=\"Open In Colab\"/></a>"
      ]
    },
    {
      "cell_type": "markdown",
      "source": [
        "Blockchain"
      ],
      "metadata": {
        "id": "BzpK_aDyeeCn"
      }
    },
    {
      "cell_type": "code",
      "source": [
        "!pip install web3"
      ],
      "metadata": {
        "id": "qEVjy3D9ZUnw"
      },
      "execution_count": null,
      "outputs": []
    },
    {
      "cell_type": "code",
      "source": [
        "!pip install py-solc-x"
      ],
      "metadata": {
        "id": "dreJdwd5ZY2a"
      },
      "execution_count": null,
      "outputs": []
    },
    {
      "cell_type": "code",
      "source": [
        "# @title Genesis\n",
        "# @markdown\n",
        "from web3 import Web3\n",
        "w3 = Web3()\n",
        "pro = 'https://sepolia.infura.io/v3/yourid'\n",
        "w3 = Web3(Web3.HTTPProvider(pro))\n",
        "def blockno():\n",
        "    print(\"blockno:\",w3.eth.block_number)\n",
        "\n",
        "def balaceho():\n",
        "    game = w3.eth.get_balance('0x28f14337e0370fE1a296D69A4823190528f3269c')\n",
        "    print(\"balance:\",game)\n",
        "def transformwei():\n",
        "    game2 = w3.from_wei(3000000000000000000,'ether')\n",
        "    print('ether:',game2)\n",
        "    game3 = w3.to_wei(3,'ether')\n",
        "    print('wei:',game3)\n",
        "blockno()\n",
        "balaceho()\n",
        "transformwei()"
      ],
      "metadata": {
        "cellView": "form",
        "id": "jnBuiqmVl1zZ"
      },
      "execution_count": null,
      "outputs": []
    },
    {
      "cell_type": "code",
      "source": [
        "\n",
        "# @title contract\n",
        "# @markdown\n",
        "from solcx import compile_source"
      ],
      "metadata": {
        "id": "sPLTsowqv8rL",
        "cellView": "form"
      },
      "execution_count": 2,
      "outputs": []
    }
  ]
}